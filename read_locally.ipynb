{
 "cells": [
  {
   "cell_type": "code",
   "execution_count": 1,
   "id": "8b72957d-65f8-4541-83bb-7bdc2e6f4016",
   "metadata": {},
   "outputs": [],
   "source": [
    "import pyspark\n",
    "from pyspark.sql import SparkSession\n",
    "from pyspark.conf import SparkConf\n",
    "from pyspark.context import SparkContext"
   ]
  },
  {
   "cell_type": "code",
   "execution_count": 2,
   "id": "d1e64dbe-7d0c-4239-993e-db8e55a574fc",
   "metadata": {},
   "outputs": [],
   "source": [
    "credentials_location = '/home/vice/DEZ/amazon_product_review/key/de-amazon-product-review-88dd24afade6.json'\n",
    "\n",
    "conf = SparkConf() \\\n",
    "    .setMaster('local[*]') \\\n",
    "    .setAppName('test') \\\n",
    "    .set(\"spark.jars\", \"/home/vice/DEZ/spark/lib/gcs-connector-hadoop3-2.2.5.jar\") \\\n",
    "    .set(\"spark.hadoop.google.cloud.auth.service.account.enable\", \"true\") \\\n",
    "    .set(\"spark.hadoop.google.cloud.auth.service.account.json.keyfile\", credentials_location)"
   ]
  },
  {
   "cell_type": "code",
   "execution_count": 3,
   "id": "dba18832-7293-439a-b35d-32b73b609ad3",
   "metadata": {},
   "outputs": [
    {
     "name": "stderr",
     "output_type": "stream",
     "text": [
      "25/04/25 15:53:49 WARN Utils: Your hostname, peace resolves to a loopback address: 127.0.1.1; using 10.255.255.254 instead (on interface lo)\n",
      "25/04/25 15:53:49 WARN Utils: Set SPARK_LOCAL_IP if you need to bind to another address\n",
      "25/04/25 15:53:50 WARN NativeCodeLoader: Unable to load native-hadoop library for your platform... using builtin-java classes where applicable\n",
      "Setting default log level to \"WARN\".\n",
      "To adjust logging level use sc.setLogLevel(newLevel). For SparkR, use setLogLevel(newLevel).\n"
     ]
    }
   ],
   "source": [
    "sc = SparkContext(conf=conf)\n",
    "\n",
    "hadoop_conf = sc._jsc.hadoopConfiguration()\n",
    "\n",
    "hadoop_conf.set(\"fs.AbstractFileSystem.gs.impl\",  \"com.google.cloud.hadoop.fs.gcs.GoogleHadoopFS\")\n",
    "hadoop_conf.set(\"fs.gs.impl\", \"com.google.cloud.hadoop.fs.gcs.GoogleHadoopFileSystem\")\n",
    "hadoop_conf.set(\"fs.gs.auth.service.account.json.keyfile\", credentials_location)\n",
    "hadoop_conf.set(\"fs.gs.auth.service.account.enable\", \"true\")"
   ]
  },
  {
   "cell_type": "code",
   "execution_count": 5,
   "id": "f0ba823f-c5b7-47b7-82c3-6d736d997dad",
   "metadata": {},
   "outputs": [],
   "source": [
    "spark = SparkSession.builder \\\n",
    "    .config(conf=sc.getConf()) \\\n",
    "    .getOrCreate()"
   ]
  },
  {
   "cell_type": "code",
   "execution_count": 6,
   "id": "f56cd375-de52-4889-ace5-0572aab2b8ad",
   "metadata": {},
   "outputs": [
    {
     "name": "stderr",
     "output_type": "stream",
     "text": [
      "                                                                                "
     ]
    }
   ],
   "source": [
    "df = spark.read.parquet('gs://de-amazon-product-review-bucket/staging/review/')\n"
   ]
  },
  {
   "cell_type": "code",
   "execution_count": 9,
   "id": "5e78cbcd-5acc-4299-a071-d0472f9cff69",
   "metadata": {},
   "outputs": [
    {
     "name": "stdout",
     "output_type": "stream",
     "text": [
      "root\n",
      " |-- timestamp_ms: long (nullable = true)\n",
      " |-- rating: double (nullable = true)\n",
      " |-- helpful_votes: long (nullable = true)\n",
      " |-- title: string (nullable = true)\n",
      " |-- text: string (nullable = true)\n",
      " |-- asin: string (nullable = true)\n",
      " |-- verified_purchase: boolean (nullable = true)\n",
      " |-- parent_asin: string (nullable = true)\n",
      " |-- user_id: string (nullable = true)\n",
      " |-- year: integer (nullable = true)\n",
      " |-- month: integer (nullable = true)\n",
      " |-- day: integer (nullable = true)\n",
      " |-- timestamp: timestamp (nullable = true)\n",
      "\n"
     ]
    }
   ],
   "source": [
    "df.printSchema()"
   ]
  },
  {
   "cell_type": "code",
   "execution_count": 10,
   "id": "acde48b3-0f5a-4b11-8e53-75ebb466730b",
   "metadata": {},
   "outputs": [
    {
     "name": "stderr",
     "output_type": "stream",
     "text": [
      "[Stage 1:>                                                          (0 + 1) / 1]"
     ]
    },
    {
     "name": "stdout",
     "output_type": "stream",
     "text": [
      "+-------------+------+-------------+--------------------+--------------------+----------+-----------------+-----------+--------------------+----+-----+---+-------------------+\n",
      "| timestamp_ms|rating|helpful_votes|               title|                text|      asin|verified_purchase|parent_asin|             user_id|year|month|day|          timestamp|\n",
      "+-------------+------+-------------+--------------------+--------------------+----------+-----------------+-----------+--------------------+----+-----+---+-------------------+\n",
      "|1560778379315|   5.0|         null|     Would buy again|         Great value|B07FX1CS1P|             true| B07FX1CS1P|AEE35FJJU4ZC3PI7A...|2019|    6| 17|2019-06-17 21:32:59|\n",
      "|1479920791000|   5.0|         null|Excellent throwba...|Excellent quality...|B00X08R0LQ|             true| B00X08R0LQ|AFQ7K4AQZ67TL5BWZ...|2016|   11| 23|2016-11-24 01:06:31|\n",
      "|1355261513000|   5.0|         null|               yummy|this was a gift w...|B004GW7PI8|             true| B004GW7PI8|AHTG337E4UP375DK3...|2012|   12| 11|2012-12-12 05:31:53|\n",
      "|1496175458000|   5.0|         null|        Awesome game|Awesome  game how...|B00DHQHQCE|             true| B00DHQHQCE|AFZ2V7TDAFIVH4M75...|2017|    5| 30|2017-05-31 04:17:38|\n",
      "|1474053262000|   5.0|         null|          Five Stars|Very nice. Easy t...|B014KP94IE|             true| B014KP94IE|AGDM6GL3INHS76W6R...|2016|    9| 16|2016-09-17 03:14:22|\n",
      "|1471471641000|   2.0|         null|                Ugh.|         Depressing.|B01738Y0DY|             true| B01738Y0DY|AES3TVGZQV2DGIPIZ...|2016|    8| 17|2016-08-18 06:07:21|\n",
      "|1484773886000|   5.0|         null|          Five Stars|              Great!|B009NB4314|             true| B009NB4314|AGUGRHG2UZNFVP5DK...|2017|    1| 18|2017-01-19 05:11:26|\n",
      "|1573038384284|   5.0|         null|Show clear presen...|Love the portabil...|B07T463MBP|             true| B07T463MBP|AHN7UPHDSEUJBL3J5...|2019|   11|  6|2019-11-06 19:06:24|\n",
      "|1559008994046|   5.0|         null|           LOVED IT!|I absolutely love...|B01FZS5CXG|            false| B01FZS5CXG|AHDAA557464LQVY7P...|2019|    5| 28|2019-05-28 10:03:14|\n",
      "|1482459956000|   5.0|         null|          Backup Set|I got this as a b...|B00A363EPO|             true| B00A363EPO|AEOGUKZE6ZUXWGBYR...|2016|   12| 23|2016-12-23 10:25:56|\n",
      "|1405330078000|   5.0|         null|          Five Stars|Love them! So com...|B00FBI5MBI|             true| B00FBI5MBI|AEUWYNTPVYPJTFPJ5...|2014|    7| 14|2014-07-14 17:27:58|\n",
      "|1624591498407|   1.0|         null|months are split-...|             useless|B0948LNRPX|             true| B0948LNRPX|AFJMRN37Y6MFC57CM...|2021|    6| 25|2021-06-25 11:24:58|\n",
      "|1505061844485|   5.0|         null|          Five Stars|  love this product!|B072QN7FZJ|             true| B072QN7FZJ|AG4ZMERDRMZELATNL...|2017|    9| 10|2017-09-11 00:44:04|\n",
      "|1513109547182|   3.0|         null|Love the colorist...|I bought these in...|B071DNRW9C|             true| B071DNRW9C|AE2JIMEOVKRRSNM5O...|2017|   12| 12|2017-12-13 04:12:27|\n",
      "|1413422521000|   5.0|         null|Finally... an ada...|Before finding th...|B00HPTU00E|             true| B00HPTU00E|AEXBYVZ37RGXIEUMX...|2014|   10| 16|2014-10-16 09:22:01|\n",
      "|1553800553146|   1.0|         null|  Didn’t work for me|  Didn’t work for me|B0772W8DM8|             true| B0772W8DM8|AHFRODFGIL4DKCP6J...|2019|    3| 28|2019-03-29 03:15:53|\n",
      "|1603110254596|   1.0|         null|False advertising...|Pictures misleadi...|B08DCWSC9G|             true| B08DCWSC9G|AF272HFJMCBGSSW7F...|2020|   10| 19|2020-10-19 20:24:14|\n",
      "|1485832506000|   2.0|         null|Its like trying t...|Impossible to blo...|B017LW99VK|             true| B017LW99VK|AF7CPDLAWUHWFTWEU...|2017|    1| 31|2017-01-31 11:15:06|\n",
      "|1454990516000|   5.0|         null|These butterfly e...|These butterfly e...|B00YVEZBF0|             true| B00YVEZBF0|AGTSRIOUCGWFVZE5A...|2016|    2|  9|2016-02-09 12:01:56|\n",
      "|1624563231362|   4.0|         null|fast shipping, go...|couldn't ask for ...|B00CNWW5GU|             true| B00CNWW5GU|AGQAMUR576PI5ZAWK...|2021|    6| 24|2021-06-25 03:33:51|\n",
      "+-------------+------+-------------+--------------------+--------------------+----------+-----------------+-----------+--------------------+----+-----+---+-------------------+\n",
      "only showing top 20 rows\n",
      "\n"
     ]
    },
    {
     "name": "stderr",
     "output_type": "stream",
     "text": [
      "                                                                                "
     ]
    }
   ],
   "source": [
    "df.show()"
   ]
  },
  {
   "cell_type": "code",
   "execution_count": 11,
   "id": "37353f2b-6c31-483d-830a-8c4042f98895",
   "metadata": {
    "scrolled": true
   },
   "outputs": [
    {
     "name": "stderr",
     "output_type": "stream",
     "text": [
      "                                                                                "
     ]
    },
    {
     "data": {
      "text/plain": [
       "571544897"
      ]
     },
     "execution_count": 11,
     "metadata": {},
     "output_type": "execute_result"
    }
   ],
   "source": [
    "df.count()\n"
   ]
  }
 ],
 "metadata": {
  "kernelspec": {
   "display_name": "Python 3 (ipykernel)",
   "language": "python",
   "name": "python3"
  },
  "language_info": {
   "codemirror_mode": {
    "name": "ipython",
    "version": 3
   },
   "file_extension": ".py",
   "mimetype": "text/x-python",
   "name": "python",
   "nbconvert_exporter": "python",
   "pygments_lexer": "ipython3",
   "version": "3.12.3"
  }
 },
 "nbformat": 4,
 "nbformat_minor": 5
}
